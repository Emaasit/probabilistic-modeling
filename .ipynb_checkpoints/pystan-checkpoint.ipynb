{
 "cells": [
  {
   "cell_type": "markdown",
   "metadata": {},
   "source": [
    "# Getting started with pystan\n",
    "This is the begineers guide to Stan in Python"
   ]
  },
  {
   "cell_type": "code",
   "execution_count": 2,
   "metadata": {
    "collapsed": true
   },
   "outputs": [],
   "source": [
    "import pystan\n",
    "import pickle\n",
    "import pandas as pd"
   ]
  },
  {
   "cell_type": "code",
   "execution_count": 3,
   "metadata": {
    "collapsed": true
   },
   "outputs": [],
   "source": [
    "%load_ext rpy2.ipython"
   ]
  },
  {
   "cell_type": "code",
   "execution_count": null,
   "metadata": {},
   "outputs": [
    {
     "name": "stderr",
     "output_type": "stream",
     "text": [
      "INFO:pystan:COMPILING THE C++ CODE FOR MODEL anon_model_5f0bdf0403318871b8fe126f239ca318 NOW.\n"
     ]
    }
   ],
   "source": [
    "sm = pystan.StanModel(file='8schools.stan')"
   ]
  },
  {
   "cell_type": "code",
   "execution_count": null,
   "metadata": {
    "collapsed": true
   },
   "outputs": [],
   "source": [
    "schools_dat = {'J': 8,\n",
    "               'y': [28,  8, -3,  7, -1,  1, 18, 12],\n",
    "               'sigma': [15, 10, 16, 11,  9, 11, 10, 18]}\n",
    "print(schools_dat)"
   ]
  },
  {
   "cell_type": "code",
   "execution_count": 13,
   "metadata": {
    "collapsed": true
   },
   "outputs": [],
   "source": [
    "fit = sm.sampling(data=schools_dat, iter=1000, chains=4)"
   ]
  },
  {
   "cell_type": "code",
   "execution_count": 14,
   "metadata": {
    "collapsed": true
   },
   "outputs": [],
   "source": [
    "fit2 = sm.sampling(data=schools_dat, iter=10000, chains=4)"
   ]
  },
  {
   "cell_type": "code",
   "execution_count": 3,
   "metadata": {},
   "outputs": [
    {
     "name": "stdout",
     "output_type": "stream",
     "text": [
      "Inference for Stan model: anon_model_cbe9cd2f1e5ab5d1c7cce1f23ca970b4.\n",
      "4 chains, each with iter=1000; warmup=500; thin=1; \n",
      "post-warmup draws per chain=500, total post-warmup draws=2000.\n",
      "\n",
      "           mean se_mean     sd   2.5%    25%    50%    75%  97.5%  n_eff   Rhat\n",
      "mu         8.25    0.23   5.15  -1.64   5.02    8.0  11.27  19.79    522   1.01\n",
      "tau        6.71    0.24   5.38   0.31   2.55   5.44   9.65  20.11    507   1.01\n",
      "eta[0]      0.4    0.02   0.94  -1.47  -0.24   0.41   1.03   2.19   1726    1.0\n",
      "eta[1]   9.7e-3    0.02   0.86  -1.64  -0.54  -0.02   0.58   1.76   1481    1.0\n",
      "eta[2]    -0.23    0.02    0.9  -1.94  -0.84  -0.25   0.33   1.64   1761    1.0\n",
      "eta[3]    -0.04    0.02   0.89  -1.78  -0.65  -0.05   0.58    1.7   1664    1.0\n",
      "eta[4]    -0.38    0.02   0.88  -2.07  -0.94  -0.38   0.15   1.41   1589    1.0\n",
      "eta[5]    -0.25    0.02   0.88  -1.98  -0.82  -0.26   0.31    1.4   1923    1.0\n",
      "eta[6]     0.35    0.02   0.88  -1.45  -0.19   0.35   0.88   2.08   1428    1.0\n",
      "eta[7]     0.03    0.02   0.93  -1.81  -0.61   0.04   0.67   1.99   2000    1.0\n",
      "theta[0]   11.8    0.26   8.49  -1.87   6.34  10.34   16.1  32.64   1068   1.01\n",
      "theta[1]   8.09    0.14    6.3  -4.28   4.12   8.12   12.0  20.68   2000    1.0\n",
      "theta[2]   6.17    0.19   7.54 -12.11    2.2   6.69   10.6  20.19   1587    1.0\n",
      "theta[3]   7.69    0.14   6.48  -5.61   3.68   7.85  11.71  20.89   2000    1.0\n",
      "theta[4]   5.08    0.14   6.45  -9.36   1.43   5.51   9.39  16.71   2000    1.0\n",
      "theta[5]   6.13    0.15   6.69  -8.45   2.36   6.38  10.42  18.36   2000    1.0\n",
      "theta[6]  10.82    0.17   6.45  -0.48   6.48  10.23  14.49  24.64   1463    1.0\n",
      "theta[7]   8.83    0.24   8.08  -6.77   4.18   8.44  12.86  28.58   1136   1.01\n",
      "lp__      -4.75    0.13   2.72 -11.05  -6.31  -4.47   -2.8  -0.27    461   1.01\n",
      "\n",
      "Samples were drawn using NUTS at Wed Oct 18 17:12:28 2017.\n",
      "For each parameter, n_eff is a crude measure of effective sample size,\n",
      "and Rhat is the potential scale reduction factor on split chains (at \n",
      "convergence, Rhat=1).\n"
     ]
    }
   ],
   "source": [
    "print(fit)"
   ]
  },
  {
   "cell_type": "code",
   "execution_count": 15,
   "metadata": {},
   "outputs": [
    {
     "name": "stdout",
     "output_type": "stream",
     "text": [
      "Inference for Stan model: anon_model_5f0bdf0403318871b8fe126f239ca318.\n",
      "4 chains, each with iter=10000; warmup=5000; thin=1; \n",
      "post-warmup draws per chain=5000, total post-warmup draws=20000.\n",
      "\n",
      "           mean se_mean     sd   2.5%    25%    50%    75%  97.5%  n_eff   Rhat\n",
      "mu         7.97    0.08   5.14   -2.0   4.79   7.91   11.2   18.2   4073    1.0\n",
      "tau        6.65    0.08   5.59   0.27   2.53   5.31   9.23  21.09   4554    1.0\n",
      "eta[0]      0.4  7.9e-3   0.95  -1.53  -0.22   0.42   1.03   2.19  14209    1.0\n",
      "eta[1]   3.2e-3  7.2e-3   0.88  -1.74  -0.57 2.0e-3   0.59   1.72  14840    1.0\n",
      "eta[2]    -0.19  7.0e-3   0.93  -1.99  -0.81  -0.19   0.41    1.7  17378    1.0\n",
      "eta[3]    -0.04  7.2e-3   0.88  -1.75  -0.62  -0.05   0.53   1.71  15015    1.0\n",
      "eta[4]    -0.36  7.4e-3   0.86  -2.01  -0.92  -0.37   0.18   1.41  13430    1.0\n",
      "eta[5]    -0.22  7.1e-3   0.89  -1.94  -0.81  -0.23   0.36   1.59  15641    1.0\n",
      "eta[6]     0.34  7.3e-3   0.88  -1.47  -0.22   0.36   0.92   2.04  14618    1.0\n",
      "eta[7]     0.05  6.8e-3   0.92  -1.74  -0.57   0.05   0.67   1.86  18130    1.0\n",
      "theta[0]   11.5    0.08   8.38  -1.87   6.05  10.34  15.65  31.76  10155    1.0\n",
      "theta[1]   7.99    0.04    6.3  -4.43    4.0   7.95  11.91  20.98  20000    1.0\n",
      "theta[2]   6.19    0.07   7.76 -11.07   1.98   6.69  11.05  20.56  12580    1.0\n",
      "theta[3]   7.67    0.05   6.55  -5.54   3.73    7.6  11.64  20.79  16462    1.0\n",
      "theta[4]   5.13    0.05   6.37  -9.05   1.43   5.61    9.4  16.45  14897    1.0\n",
      "theta[5]   6.14    0.05   6.74  -8.76   2.34   6.54   10.5  18.59  16075    1.0\n",
      "theta[6]  10.74    0.06    6.7   -1.0   6.24  10.15  14.62   25.9  12768    1.0\n",
      "theta[7]   8.44    0.07    7.9  -7.24   3.84   8.22  12.75  25.85  12759    1.0\n",
      "lp__      -4.81    0.04   2.64 -10.68  -6.39  -4.56  -2.95  -0.34   5687    1.0\n",
      "\n",
      "Samples were drawn using NUTS at Wed Oct 18 17:36:26 2017.\n",
      "For each parameter, n_eff is a crude measure of effective sample size,\n",
      "and Rhat is the potential scale reduction factor on split chains (at \n",
      "convergence, Rhat=1).\n"
     ]
    }
   ],
   "source": [
    "print(fit2)"
   ]
  },
  {
   "cell_type": "code",
   "execution_count": 1,
   "metadata": {
    "collapsed": true
   },
   "outputs": [],
   "source": [
    "import matplotlib"
   ]
  },
  {
   "cell_type": "code",
   "execution_count": 7,
   "metadata": {},
   "outputs": [
    {
     "name": "stderr",
     "output_type": "stream",
     "text": [
      "/home/daniel/anaconda3/lib/python3.6/site-packages/matplotlib/font_manager.py:280: UserWarning: Matplotlib is building the font cache using fc-list. This may take a moment.\n",
      "  'Matplotlib is building the font cache using fc-list. '\n"
     ]
    },
    {
     "data": {
      "image/png": "[encoded data removed]",
      "text/plain": [
       "<matplotlib.figure.Figure at 0x7f74c4160ba8>"
      ]
     },
     "execution_count": 7,
     "metadata": {},
     "output_type": "execute_result"
    }
   ],
   "source": [
    "fit.plot()"
   ]
  },
  {
   "cell_type": "code",
   "execution_count": 3,
   "metadata": {},
   "outputs": [
    {
     "ename": "NameError",
     "evalue": "name 'sm' is not defined",
     "output_type": "error",
     "traceback": [
      "\u001b[0;31m---------------------------------------------------------------------------\u001b[0m",
      "\u001b[0;31mNameError\u001b[0m                                 Traceback (most recent call last)",
      "\u001b[0;32m<ipython-input-3-17514241c05c>\u001b[0m in \u001b[0;36m<module>\u001b[0;34m()\u001b[0m\n\u001b[1;32m      1\u001b[0m \u001b[0;31m# save it to the file 'model.pkl' for later use\u001b[0m\u001b[0;34m\u001b[0m\u001b[0;34m\u001b[0m\u001b[0m\n\u001b[1;32m      2\u001b[0m \u001b[0;32mwith\u001b[0m \u001b[0mopen\u001b[0m\u001b[0;34m(\u001b[0m\u001b[0;34m'model.pkl'\u001b[0m\u001b[0;34m,\u001b[0m \u001b[0;34m'wb'\u001b[0m\u001b[0;34m)\u001b[0m \u001b[0;32mas\u001b[0m \u001b[0mf\u001b[0m\u001b[0;34m:\u001b[0m\u001b[0;34m\u001b[0m\u001b[0m\n\u001b[0;32m----> 3\u001b[0;31m     \u001b[0mpickle\u001b[0m\u001b[0;34m.\u001b[0m\u001b[0mdump\u001b[0m\u001b[0;34m(\u001b[0m\u001b[0msm\u001b[0m\u001b[0;34m,\u001b[0m \u001b[0mf\u001b[0m\u001b[0;34m,\u001b[0m \u001b[0mprotocol\u001b[0m\u001b[0;34m=\u001b[0m\u001b[0mpickle\u001b[0m\u001b[0;34m.\u001b[0m\u001b[0mHIGHEST_PROTOCOL\u001b[0m\u001b[0;34m)\u001b[0m\u001b[0;34m\u001b[0m\u001b[0m\n\u001b[0m",
      "\u001b[0;31mNameError\u001b[0m: name 'sm' is not defined"
     ]
    }
   ],
   "source": [
    "# save it to the file 'model.pkl' for later use\n",
    "with open('model.pkl', 'wb') as f:\n",
    "    pickle.dump(sm, f, protocol=pickle.HIGHEST_PROTOCOL)"
   ]
  },
  {
   "cell_type": "code",
   "execution_count": 5,
   "metadata": {},
   "outputs": [
    {
     "ename": "EOFError",
     "evalue": "Ran out of input",
     "output_type": "error",
     "traceback": [
      "\u001b[0;31m---------------------------------------------------------------------------\u001b[0m",
      "\u001b[0;31mEOFError\u001b[0m                                  Traceback (most recent call last)",
      "\u001b[0;32m<ipython-input-5-565eed708a3c>\u001b[0m in \u001b[0;36m<module>\u001b[0;34m()\u001b[0m\n\u001b[1;32m      1\u001b[0m \u001b[0;31m# load it at some future point\u001b[0m\u001b[0;34m\u001b[0m\u001b[0;34m\u001b[0m\u001b[0m\n\u001b[0;32m----> 2\u001b[0;31m \u001b[0msm\u001b[0m \u001b[0;34m=\u001b[0m \u001b[0mpickle\u001b[0m\u001b[0;34m.\u001b[0m\u001b[0mload\u001b[0m\u001b[0;34m(\u001b[0m\u001b[0mopen\u001b[0m\u001b[0;34m(\u001b[0m\u001b[0;34m'model.pkl'\u001b[0m\u001b[0;34m,\u001b[0m \u001b[0;34m'rb'\u001b[0m\u001b[0;34m)\u001b[0m\u001b[0;34m)\u001b[0m\u001b[0;34m\u001b[0m\u001b[0m\n\u001b[0m",
      "\u001b[0;31mEOFError\u001b[0m: Ran out of input"
     ]
    }
   ],
   "source": [
    "# load it at some future point\n",
    "with open('model.pkl', 'rb') as f:\n",
    "    model = pickle.load(f)"
   ]
  },
  {
   "cell_type": "code",
   "execution_count": 25,
   "metadata": {
    "collapsed": true
   },
   "outputs": [],
   "source": [
    "# run with different data\n",
    "fit3 = model.sampling(data = {'J': 8,\n",
    "               'y': [28,  8, -3,  7, -1,  1, 18, 12],\n",
    "               'sigma': [15, 10, 16, 11,  9, 11, 10, 18]})"
   ]
  },
  {
   "cell_type": "code",
   "execution_count": 27,
   "metadata": {},
   "outputs": [
    {
     "name": "stdout",
     "output_type": "stream",
     "text": [
      "Inference for Stan model: anon_model_5f0bdf0403318871b8fe126f239ca318.\n",
      "4 chains, each with iter=2000; warmup=1000; thin=1; \n",
      "post-warmup draws per chain=1000, total post-warmup draws=4000.\n",
      "\n",
      "           mean se_mean     sd   2.5%    25%    50%    75%  97.5%  n_eff   Rhat\n",
      "mu         8.01    0.16    5.1   -2.4   4.79   7.97  11.24  18.25   1032    1.0\n",
      "tau        6.54    0.18   5.65   0.25   2.47    5.2   8.97  22.07    978    1.0\n",
      "eta[0]     0.36    0.02   0.95  -1.53  -0.28   0.38   1.03    2.2   3588    1.0\n",
      "eta[1]   2.5e-3    0.02   0.88  -1.78  -0.58 1.5e-3   0.58   1.76   3139    1.0\n",
      "eta[2]    -0.19    0.02   0.92  -2.02   -0.8  -0.18   0.41   1.63   3177    1.0\n",
      "eta[3]  -9.5e-3    0.01   0.89  -1.73  -0.62  -0.03   0.58   1.81   3596    1.0\n",
      "eta[4]    -0.36    0.02   0.88  -2.04  -0.96  -0.36   0.21   1.42   3388    1.0\n",
      "eta[5]    -0.23    0.02   0.89  -1.92  -0.81  -0.25   0.34   1.59   3428    1.0\n",
      "eta[6]     0.32    0.02   0.89  -1.54  -0.25   0.34    0.9   2.02   3370    1.0\n",
      "eta[7]     0.05    0.02   0.94  -1.78  -0.58   0.06   0.69   1.92   3658    1.0\n",
      "theta[0]  11.29    0.18   8.25  -2.12   5.81  10.18  15.34  31.22   2020    1.0\n",
      "theta[1]   8.02     0.1   6.39  -5.11    4.1   8.13  11.93  21.01   4000    1.0\n",
      "theta[2]    6.2    0.13   7.46 -11.37   2.22   6.63  10.98  19.38   3285    1.0\n",
      "theta[3]   7.69     0.1   6.44  -6.04   3.92   7.71  11.64  21.06   4000    1.0\n",
      "theta[4]   5.23     0.1   6.38  -8.86   1.63   5.71   9.41  16.64   4000    1.0\n",
      "theta[5]   6.17    0.11   6.58  -7.91   2.45   6.43  10.49  18.67   3721    1.0\n",
      "theta[6]  10.68    0.12   6.65  -0.69   6.21  10.14  14.54   25.8   3290    1.0\n",
      "theta[7]   8.54    0.18   8.15  -7.08   3.78   8.17  12.85  26.68   2107    1.0\n",
      "lp__      -4.89    0.08   2.62  -10.6  -6.47  -4.65  -3.04  -0.43   1113   1.01\n",
      "\n",
      "Samples were drawn using NUTS at Wed Oct 18 17:45:13 2017.\n",
      "For each parameter, n_eff is a crude measure of effective sample size,\n",
      "and Rhat is the potential scale reduction factor on split chains (at \n",
      "convergence, Rhat=1).\n"
     ]
    }
   ],
   "source": [
    "print(fit3)"
   ]
  },
  {
   "cell_type": "code",
   "execution_count": 5,
   "metadata": {
    "collapsed": true
   },
   "outputs": [],
   "source": [
    "df = pd.DataFrame({'Letter': ['a', 'a', 'a', 'b','b', 'b', 'c', 'c','c'],\n",
    "                   'X': [4, 3, 5, 2, 1, 7, 7, 5, 9],\n",
    "                   'Y': [0, 4, 3, 6, 7, 10, 11, 9, 13],\n",
    "                   'Z': [1, 2, 3, 1, 2, 3, 1, 2, 3]})"
   ]
  },
  {
   "cell_type": "code",
   "execution_count": 5,
   "metadata": {},
   "outputs": [
    {
     "data": {
      "text/plain": [
       "array(['ggplot2', 'tools', 'stats', 'graphics', 'grDevices', 'utils',\n",
       "       'datasets', 'methods', 'base'],\n",
       "      dtype='<U9')"
      ]
     },
     "execution_count": 5,
     "metadata": {},
     "output_type": "execute_result"
    }
   ],
   "source": [
    "%R library(ggplot2)"
   ]
  },
  {
   "cell_type": "markdown",
   "metadata": {},
   "source": [
    "## Installing R packages\n",
    "Use this code to install R packages\n",
    "```r\n",
    "install.packages(\"ggplot2\", repos = \"http://cran.us.r-project.org\", \n",
    "                 lib = \"/home/daniel/anaconda3/lib/R/library/\")\n",
    "```"
   ]
  },
  {
   "cell_type": "code",
   "execution_count": 8,
   "metadata": {},
   "outputs": [
    {
     "name": "stderr",
     "output_type": "stream",
     "text": [
      "/home/daniel/anaconda3/lib/python3.6/site-packages/rpy2/rinterface/__init__.py:186: RRuntimeWarning: trying URL 'http://cran.us.r-project.org/src/contrib/magrittr_1.5.tar.gz'\n",
      "\n",
      "  warnings.warn(x, RRuntimeWarning)\n",
      "/home/daniel/anaconda3/lib/python3.6/site-packages/rpy2/rinterface/__init__.py:186: RRuntimeWarning: Content type 'application/x-gzip'\n",
      "  warnings.warn(x, RRuntimeWarning)\n",
      "/home/daniel/anaconda3/lib/python3.6/site-packages/rpy2/rinterface/__init__.py:186: RRuntimeWarning:  length 200504 bytes (195 KB)\n",
      "\n",
      "  warnings.warn(x, RRuntimeWarning)\n",
      "/home/daniel/anaconda3/lib/python3.6/site-packages/rpy2/rinterface/__init__.py:186: RRuntimeWarning: =\n",
      "  warnings.warn(x, RRuntimeWarning)\n",
      "/home/daniel/anaconda3/lib/python3.6/site-packages/rpy2/rinterface/__init__.py:186: RRuntimeWarning: \n",
      "\n",
      "  warnings.warn(x, RRuntimeWarning)\n",
      "/home/daniel/anaconda3/lib/python3.6/site-packages/rpy2/rinterface/__init__.py:186: RRuntimeWarning: downloaded 195 KB\n",
      "\n",
      "\n",
      "  warnings.warn(x, RRuntimeWarning)\n",
      "/home/daniel/anaconda3/lib/python3.6/site-packages/rpy2/rinterface/__init__.py:186: RRuntimeWarning: trying URL 'http://cran.us.r-project.org/src/contrib/tidyverse_1.1.1.tar.gz'\n",
      "\n",
      "  warnings.warn(x, RRuntimeWarning)\n",
      "/home/daniel/anaconda3/lib/python3.6/site-packages/rpy2/rinterface/__init__.py:186: RRuntimeWarning:  length 23452 bytes (22 KB)\n",
      "\n",
      "  warnings.warn(x, RRuntimeWarning)\n",
      "/home/daniel/anaconda3/lib/python3.6/site-packages/rpy2/rinterface/__init__.py:186: RRuntimeWarning: downloaded 22 KB\n",
      "\n",
      "\n",
      "  warnings.warn(x, RRuntimeWarning)\n",
      "/home/daniel/anaconda3/lib/python3.6/site-packages/rpy2/rinterface/__init__.py:186: RRuntimeWarning: \n",
      "  warnings.warn(x, RRuntimeWarning)\n",
      "/home/daniel/anaconda3/lib/python3.6/site-packages/rpy2/rinterface/__init__.py:186: RRuntimeWarning: The downloaded source packages are in\n",
      "\t‘/tmp/RtmpCTKvXD/downloaded_packages’\n",
      "  warnings.warn(x, RRuntimeWarning)\n",
      "/home/daniel/anaconda3/lib/python3.6/site-packages/rpy2/rinterface/__init__.py:186: RRuntimeWarning: Updating HTML index of packages in '.Library'\n",
      "\n",
      "  warnings.warn(x, RRuntimeWarning)\n",
      "/home/daniel/anaconda3/lib/python3.6/site-packages/rpy2/rinterface/__init__.py:186: RRuntimeWarning: Making 'packages.html' ...\n",
      "  warnings.warn(x, RRuntimeWarning)\n",
      "/home/daniel/anaconda3/lib/python3.6/site-packages/rpy2/rinterface/__init__.py:186: RRuntimeWarning:  done\n",
      "\n",
      "  warnings.warn(x, RRuntimeWarning)\n"
     ]
    }
   ],
   "source": [
    "%%R\n",
    "install.packages(c(\"magrittr\", \"tidyverse\"), repos = 'http://cran.us.r-project.org')"
   ]
  },
  {
   "cell_type": "code",
   "execution_count": 26,
   "metadata": {},
   "outputs": [
    {
     "data": {
      "image/png": "[encoded data removed]"
     },
     "metadata": {},
     "output_type": "display_data"
    }
   ],
   "source": [
    "%%R -i df\n",
    "library(plotly)\n",
    "ggplot(data = df) + geom_point(aes(x = X, y = Y, color = Letter, size = Z))\n"
   ]
  },
  {
   "cell_type": "code",
   "execution_count": 1,
   "metadata": {},
   "outputs": [
    {
     "data": {
      "application/json": {
       "cell": {
        "!": "OSMagics",
        "HTML": "Other",
        "SVG": "Other",
        "bash": "Other",
        "capture": "ExecutionMagics",
        "debug": "ExecutionMagics",
        "file": "Other",
        "html": "DisplayMagics",
        "javascript": "DisplayMagics",
        "js": "DisplayMagics",
        "latex": "DisplayMagics",
        "markdown": "DisplayMagics",
        "perl": "Other",
        "prun": "ExecutionMagics",
        "pypy": "Other",
        "python": "Other",
        "python2": "Other",
        "python3": "Other",
        "ruby": "Other",
        "script": "ScriptMagics",
        "sh": "Other",
        "svg": "DisplayMagics",
        "sx": "OSMagics",
        "system": "OSMagics",
        "time": "ExecutionMagics",
        "timeit": "ExecutionMagics",
        "writefile": "OSMagics"
       },
       "line": {
        "alias": "OSMagics",
        "alias_magic": "BasicMagics",
        "autocall": "AutoMagics",
        "automagic": "AutoMagics",
        "autosave": "KernelMagics",
        "bookmark": "OSMagics",
        "cat": "Other",
        "cd": "OSMagics",
        "clear": "KernelMagics",
        "colors": "BasicMagics",
        "config": "ConfigMagics",
        "connect_info": "KernelMagics",
        "cp": "Other",
        "debug": "ExecutionMagics",
        "dhist": "OSMagics",
        "dirs": "OSMagics",
        "doctest_mode": "BasicMagics",
        "ed": "Other",
        "edit": "KernelMagics",
        "env": "OSMagics",
        "gui": "BasicMagics",
        "hist": "Other",
        "history": "HistoryMagics",
        "killbgscripts": "ScriptMagics",
        "ldir": "Other",
        "less": "KernelMagics",
        "lf": "Other",
        "lk": "Other",
        "ll": "Other",
        "load": "CodeMagics",
        "load_ext": "ExtensionMagics",
        "loadpy": "CodeMagics",
        "logoff": "LoggingMagics",
        "logon": "LoggingMagics",
        "logstart": "LoggingMagics",
        "logstate": "LoggingMagics",
        "logstop": "LoggingMagics",
        "ls": "Other",
        "lsmagic": "BasicMagics",
        "lx": "Other",
        "macro": "ExecutionMagics",
        "magic": "BasicMagics",
        "man": "KernelMagics",
        "matplotlib": "PylabMagics",
        "mkdir": "Other",
        "more": "KernelMagics",
        "mv": "Other",
        "notebook": "BasicMagics",
        "page": "BasicMagics",
        "pastebin": "CodeMagics",
        "pdb": "ExecutionMagics",
        "pdef": "NamespaceMagics",
        "pdoc": "NamespaceMagics",
        "pfile": "NamespaceMagics",
        "pinfo": "NamespaceMagics",
        "pinfo2": "NamespaceMagics",
        "pip": "BasicMagics",
        "popd": "OSMagics",
        "pprint": "BasicMagics",
        "precision": "BasicMagics",
        "profile": "BasicMagics",
        "prun": "ExecutionMagics",
        "psearch": "NamespaceMagics",
        "psource": "NamespaceMagics",
        "pushd": "OSMagics",
        "pwd": "OSMagics",
        "pycat": "OSMagics",
        "pylab": "PylabMagics",
        "qtconsole": "KernelMagics",
        "quickref": "BasicMagics",
        "recall": "HistoryMagics",
        "rehashx": "OSMagics",
        "reload_ext": "ExtensionMagics",
        "rep": "Other",
        "rerun": "HistoryMagics",
        "reset": "NamespaceMagics",
        "reset_selective": "NamespaceMagics",
        "rm": "Other",
        "rmdir": "Other",
        "run": "ExecutionMagics",
        "save": "CodeMagics",
        "sc": "OSMagics",
        "set_env": "OSMagics",
        "store": "StoreMagics",
        "sx": "OSMagics",
        "system": "OSMagics",
        "tb": "ExecutionMagics",
        "time": "ExecutionMagics",
        "timeit": "ExecutionMagics",
        "unalias": "OSMagics",
        "unload_ext": "ExtensionMagics",
        "who": "NamespaceMagics",
        "who_ls": "NamespaceMagics",
        "whos": "NamespaceMagics",
        "xdel": "NamespaceMagics",
        "xmode": "BasicMagics"
       }
      },
      "text/plain": [
       "Available line magics:\n",
       "%alias  %alias_magic  %autocall  %automagic  %autosave  %bookmark  %cat  %cd  %clear  %colors  %config  %connect_info  %cp  %debug  %dhist  %dirs  %doctest_mode  %ed  %edit  %env  %gui  %hist  %history  %killbgscripts  %ldir  %less  %lf  %lk  %ll  %load  %load_ext  %loadpy  %logoff  %logon  %logstart  %logstate  %logstop  %ls  %lsmagic  %lx  %macro  %magic  %man  %matplotlib  %mkdir  %more  %mv  %notebook  %page  %pastebin  %pdb  %pdef  %pdoc  %pfile  %pinfo  %pinfo2  %popd  %pprint  %precision  %profile  %prun  %psearch  %psource  %pushd  %pwd  %pycat  %pylab  %qtconsole  %quickref  %recall  %rehashx  %reload_ext  %rep  %rerun  %reset  %reset_selective  %rm  %rmdir  %run  %save  %sc  %set_env  %store  %sx  %system  %tb  %time  %timeit  %unalias  %unload_ext  %who  %who_ls  %whos  %xdel  %xmode\n",
       "\n",
       "Available cell magics:\n",
       "%%!  %%HTML  %%SVG  %%bash  %%capture  %%debug  %%file  %%html  %%javascript  %%js  %%latex  %%markdown  %%perl  %%prun  %%pypy  %%python  %%python2  %%python3  %%ruby  %%script  %%sh  %%svg  %%sx  %%system  %%time  %%timeit  %%writefile\n",
       "\n",
       "Automagic is ON, % prefix IS NOT needed for line magics."
      ]
     },
     "execution_count": 1,
     "metadata": {},
     "output_type": "execute_result"
    }
   ],
   "source": [
    "%lsmagic"
   ]
  },
  {
   "cell_type": "code",
   "execution_count": 12,
   "metadata": {},
   "outputs": [
    {
     "data": {
      "text/plain": [
       "  Sepal.Length\n",
       "1          5.1\n",
       "2          4.9\n",
       "3          4.7\n",
       "4          4.6\n",
       "5          5.0\n",
       "6          5.4\n"
      ]
     },
     "metadata": {},
     "output_type": "display_data"
    }
   ],
   "source": [
    "%%R\n",
    "library(dplyr)\n",
    "data(iris)\n",
    "head(iris)\n",
    "my_data <- select(iris, Sepal.Length)\n",
    "head(my_data)"
   ]
  }
 ],
 "metadata": {
  "kernelspec": {
   "display_name": "Python 3",
   "language": "python",
   "name": "python3"
  },
  "language_info": {
   "codemirror_mode": {
    "name": "ipython",
    "version": 3
   },
   "file_extension": ".py",
   "mimetype": "text/x-python",
   "name": "python",
   "nbconvert_exporter": "python",
   "pygments_lexer": "ipython3",
   "version": "3.6.3"
  }
 },
 "nbformat": 4,
 "nbformat_minor": 2
}
